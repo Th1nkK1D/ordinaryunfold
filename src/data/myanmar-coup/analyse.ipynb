{
 "metadata": {
  "language_info": {
   "codemirror_mode": {
    "name": "ipython",
    "version": 3
   },
   "file_extension": ".py",
   "mimetype": "text/x-python",
   "name": "python",
   "nbconvert_exporter": "python",
   "pygments_lexer": "ipython3",
   "version": "3.9.0"
  },
  "orig_nbformat": 2,
  "kernelspec": {
   "name": "python390jvsc74a57bd0f0c379cef7ac55e935eded1d603304756c8c516d6dd68f3ee7edaf9b7346792d",
   "display_name": "Python 3.9.0 64-bit"
  },
  "metadata": {
   "interpreter": {
    "hash": "f0c379cef7ac55e935eded1d603304756c8c516d6dd68f3ee7edaf9b7346792d"
   }
  }
 },
 "nbformat": 4,
 "nbformat_minor": 2,
 "cells": [
  {
   "source": [
    "# Myanmar Coup Fetality Dataset\n",
    "\n",
    "source: [aappb](https://aappb.org/?cat=109)"
   ],
   "cell_type": "markdown",
   "metadata": {}
  },
  {
   "cell_type": "code",
   "execution_count": 89,
   "metadata": {},
   "outputs": [],
   "source": [
    "import camelot\n",
    "import numpy as np\n",
    "import matplotlib.pyplot as plt"
   ]
  },
  {
   "source": [
    "## Load data from pdf file"
   ],
   "cell_type": "markdown",
   "metadata": {}
  },
  {
   "cell_type": "code",
   "execution_count": 2,
   "metadata": {},
   "outputs": [
    {
     "output_type": "execute_result",
     "data": {
      "text/plain": [
       "50"
      ]
     },
     "metadata": {},
     "execution_count": 2
    }
   ],
   "source": [
    "tables = camelot.read_pdf(\"Recent-Fatality-list-updated-on-May-25-2021-English.pdf\", pages='1-end')\n",
    "tables.n"
   ]
  },
  {
   "cell_type": "code",
   "execution_count": 72,
   "metadata": {},
   "outputs": [],
   "source": [
    "dataset = tables[0].df\n",
    "\n",
    "for tableIndex in range(1, tables.n):\n",
    "    dataset = dataset.append(tables[tableIndex].df, ignore_index=True)"
   ]
  },
  {
   "cell_type": "code",
   "execution_count": 73,
   "metadata": {},
   "outputs": [
    {
     "output_type": "execute_result",
     "data": {
      "text/plain": [
       "      0                                    1    2    3              4   \\\n",
       "0    No.                                 Name  Sex  Age  Father's name   \n",
       "1      1        Na Pwar (aka) Ko \\nNyi Nyi Oo    M   32     U Hla Ngwe   \n",
       "2      2           Mya Thwate Thwate \\nKhaing    F   19        unknown   \n",
       "3      3                     Nay Nay Win Htet    M   18        unknown   \n",
       "4      4           Thet Naing Win @ \\nMin Min    M   37    U Maung San   \n",
       "..   ...                                  ...  ...  ...            ...   \n",
       "769  769  San Tun Aung Shwe \\nHlaing @ Ngagar    M        Unknown Name   \n",
       "770  770                            Zayar Win    M   36   Unknown Name   \n",
       "771  771            Soe Moe Hlaing @ \\nMaegyi    M   55   Unknown Name   \n",
       "772  772                              Min Min    M        Unknown Name   \n",
       "773                                Total  827                            \n",
       "\n",
       "                     5                6                              7   \\\n",
       "0    Date of \\nIncident  Deceased \\nDate                   Organization   \n",
       "1             08-Feb-21        08-Feb-21                       Civilian   \n",
       "2             09-Feb-21        19-Feb-21                       Civilian   \n",
       "3             15-Feb-21        15-Feb-21                       Civilian   \n",
       "4             20-Feb-21        20-Feb-21                       Civilian   \n",
       "..                  ...              ...                            ...   \n",
       "769           23-May-21        24-May-21                       Civilian   \n",
       "770           23-May-21        23-May-21                       Civilian   \n",
       "771     22 May 21 \\narr        24-May-21  Former \\nPolitical \\nPrisoner   \n",
       "772  24 May 21 \\narrest        25-May-21                       Civilian   \n",
       "773                                                                       \n",
       "\n",
       "                                 8   \\\n",
       "0              Place of \\nIncidents   \n",
       "1                          Mandalay   \n",
       "2                        NayPyi Taw   \n",
       "3    Myeik, \\nTanintharyi \\nRegion,   \n",
       "4      Kannar road, \\nMandalay City   \n",
       "..                              ...   \n",
       "769   North Dagon \\nfootball ground   \n",
       "770                                   \n",
       "771          Interrogation \\ncentre   \n",
       "772          Interrogation \\ncentre   \n",
       "773                                   \n",
       "\n",
       "                                                    9            10  \\\n",
       "0                                          Home Adress     Township   \n",
       "1              75 street, \\nbetween 37 and \\n38 street  Mahaaungmye   \n",
       "2    Hlaykhwintaung, \\nLower \\nPaunglaung \\nHydro P...    Zeyathiri   \n",
       "3                                        Toe Chal Ward        Myeik   \n",
       "4                                       near 41 street  Mahaaungmye   \n",
       "..                                                 ...          ...   \n",
       "769                                                     North Dagon   \n",
       "770                      Phayarngarsu \\nkangyi village      Myothit   \n",
       "771                                           Fayargyi         Bago   \n",
       "772                                       Myothar ward         Kela   \n",
       "773                                                                   \n",
       "\n",
       "                         11                                                 12  \n",
       "0    States/Regions Remarks                                                     \n",
       "1           Mandalay Region  In another incident, 32 year old \\nKo Na Pwar ...  \n",
       "2                 Naypyidaw  On February 9, peaceful anti-\\ncoup protests i...  \n",
       "3      Tanintharyi \\nRegion  On 15 February evening, 18-year \\nold Maung Na...  \n",
       "4           Mandalay Region  In Mandalay, a shipyaroad raid \\nturned violen...  \n",
       "..                      ...                                                ...  \n",
       "769           Yangon Region  Junta forces opened fire when \\nthey raided th...  \n",
       "770            Magwe Region  On the night of 23 May, in \\nrelation to bomb ...  \n",
       "771             Bago Region  Mae Gyi (a.k.a Soe Moe Hlaing), \\na former mem...  \n",
       "772          Sagaing Region  A family was informed this \\nmorning to collec...  \n",
       "773                                                                             \n",
       "\n",
       "[774 rows x 13 columns]"
      ],
      "text/html": "<div>\n<style scoped>\n    .dataframe tbody tr th:only-of-type {\n        vertical-align: middle;\n    }\n\n    .dataframe tbody tr th {\n        vertical-align: top;\n    }\n\n    .dataframe thead th {\n        text-align: right;\n    }\n</style>\n<table border=\"1\" class=\"dataframe\">\n  <thead>\n    <tr style=\"text-align: right;\">\n      <th></th>\n      <th>0</th>\n      <th>1</th>\n      <th>2</th>\n      <th>3</th>\n      <th>4</th>\n      <th>5</th>\n      <th>6</th>\n      <th>7</th>\n      <th>8</th>\n      <th>9</th>\n      <th>10</th>\n      <th>11</th>\n      <th>12</th>\n    </tr>\n  </thead>\n  <tbody>\n    <tr>\n      <th>0</th>\n      <td>No.</td>\n      <td>Name</td>\n      <td>Sex</td>\n      <td>Age</td>\n      <td>Father's name</td>\n      <td>Date of \\nIncident</td>\n      <td>Deceased \\nDate</td>\n      <td>Organization</td>\n      <td>Place of \\nIncidents</td>\n      <td>Home Adress</td>\n      <td>Township</td>\n      <td>States/Regions Remarks</td>\n      <td></td>\n    </tr>\n    <tr>\n      <th>1</th>\n      <td>1</td>\n      <td>Na Pwar (aka) Ko \\nNyi Nyi Oo</td>\n      <td>M</td>\n      <td>32</td>\n      <td>U Hla Ngwe</td>\n      <td>08-Feb-21</td>\n      <td>08-Feb-21</td>\n      <td>Civilian</td>\n      <td>Mandalay</td>\n      <td>75 street, \\nbetween 37 and \\n38 street</td>\n      <td>Mahaaungmye</td>\n      <td>Mandalay Region</td>\n      <td>In another incident, 32 year old \\nKo Na Pwar ...</td>\n    </tr>\n    <tr>\n      <th>2</th>\n      <td>2</td>\n      <td>Mya Thwate Thwate \\nKhaing</td>\n      <td>F</td>\n      <td>19</td>\n      <td>unknown</td>\n      <td>09-Feb-21</td>\n      <td>19-Feb-21</td>\n      <td>Civilian</td>\n      <td>NayPyi Taw</td>\n      <td>Hlaykhwintaung, \\nLower \\nPaunglaung \\nHydro P...</td>\n      <td>Zeyathiri</td>\n      <td>Naypyidaw</td>\n      <td>On February 9, peaceful anti-\\ncoup protests i...</td>\n    </tr>\n    <tr>\n      <th>3</th>\n      <td>3</td>\n      <td>Nay Nay Win Htet</td>\n      <td>M</td>\n      <td>18</td>\n      <td>unknown</td>\n      <td>15-Feb-21</td>\n      <td>15-Feb-21</td>\n      <td>Civilian</td>\n      <td>Myeik, \\nTanintharyi \\nRegion,</td>\n      <td>Toe Chal Ward</td>\n      <td>Myeik</td>\n      <td>Tanintharyi \\nRegion</td>\n      <td>On 15 February evening, 18-year \\nold Maung Na...</td>\n    </tr>\n    <tr>\n      <th>4</th>\n      <td>4</td>\n      <td>Thet Naing Win @ \\nMin Min</td>\n      <td>M</td>\n      <td>37</td>\n      <td>U Maung San</td>\n      <td>20-Feb-21</td>\n      <td>20-Feb-21</td>\n      <td>Civilian</td>\n      <td>Kannar road, \\nMandalay City</td>\n      <td>near 41 street</td>\n      <td>Mahaaungmye</td>\n      <td>Mandalay Region</td>\n      <td>In Mandalay, a shipyaroad raid \\nturned violen...</td>\n    </tr>\n    <tr>\n      <th>...</th>\n      <td>...</td>\n      <td>...</td>\n      <td>...</td>\n      <td>...</td>\n      <td>...</td>\n      <td>...</td>\n      <td>...</td>\n      <td>...</td>\n      <td>...</td>\n      <td>...</td>\n      <td>...</td>\n      <td>...</td>\n      <td>...</td>\n    </tr>\n    <tr>\n      <th>769</th>\n      <td>769</td>\n      <td>San Tun Aung Shwe \\nHlaing @ Ngagar</td>\n      <td>M</td>\n      <td></td>\n      <td>Unknown Name</td>\n      <td>23-May-21</td>\n      <td>24-May-21</td>\n      <td>Civilian</td>\n      <td>North Dagon \\nfootball ground</td>\n      <td></td>\n      <td>North Dagon</td>\n      <td>Yangon Region</td>\n      <td>Junta forces opened fire when \\nthey raided th...</td>\n    </tr>\n    <tr>\n      <th>770</th>\n      <td>770</td>\n      <td>Zayar Win</td>\n      <td>M</td>\n      <td>36</td>\n      <td>Unknown Name</td>\n      <td>23-May-21</td>\n      <td>23-May-21</td>\n      <td>Civilian</td>\n      <td></td>\n      <td>Phayarngarsu \\nkangyi village</td>\n      <td>Myothit</td>\n      <td>Magwe Region</td>\n      <td>On the night of 23 May, in \\nrelation to bomb ...</td>\n    </tr>\n    <tr>\n      <th>771</th>\n      <td>771</td>\n      <td>Soe Moe Hlaing @ \\nMaegyi</td>\n      <td>M</td>\n      <td>55</td>\n      <td>Unknown Name</td>\n      <td>22 May 21 \\narr</td>\n      <td>24-May-21</td>\n      <td>Former \\nPolitical \\nPrisoner</td>\n      <td>Interrogation \\ncentre</td>\n      <td>Fayargyi</td>\n      <td>Bago</td>\n      <td>Bago Region</td>\n      <td>Mae Gyi (a.k.a Soe Moe Hlaing), \\na former mem...</td>\n    </tr>\n    <tr>\n      <th>772</th>\n      <td>772</td>\n      <td>Min Min</td>\n      <td>M</td>\n      <td></td>\n      <td>Unknown Name</td>\n      <td>24 May 21 \\narrest</td>\n      <td>25-May-21</td>\n      <td>Civilian</td>\n      <td>Interrogation \\ncentre</td>\n      <td>Myothar ward</td>\n      <td>Kela</td>\n      <td>Sagaing Region</td>\n      <td>A family was informed this \\nmorning to collec...</td>\n    </tr>\n    <tr>\n      <th>773</th>\n      <td></td>\n      <td>Total  827</td>\n      <td></td>\n      <td></td>\n      <td></td>\n      <td></td>\n      <td></td>\n      <td></td>\n      <td></td>\n      <td></td>\n      <td></td>\n      <td></td>\n      <td></td>\n    </tr>\n  </tbody>\n</table>\n<p>774 rows × 13 columns</p>\n</div>"
     },
     "metadata": {},
     "execution_count": 73
    }
   ],
   "source": [
    "dataset"
   ]
  },
  {
   "source": [
    "## Cleanup data\n",
    "Cleanup newline (\\n)"
   ],
   "cell_type": "markdown",
   "metadata": {}
  },
  {
   "cell_type": "code",
   "execution_count": 74,
   "metadata": {},
   "outputs": [
    {
     "output_type": "execute_result",
     "data": {
      "text/plain": [
       "      0                                  1    2    3              4   \\\n",
       "0    No.                               Name  Sex  Age  Father's name   \n",
       "1      1        Na Pwar (aka) Ko Nyi Nyi Oo    M   32     U Hla Ngwe   \n",
       "2      2           Mya Thwate Thwate Khaing    F   19        unknown   \n",
       "3      3                   Nay Nay Win Htet    M   18        unknown   \n",
       "4      4           Thet Naing Win @ Min Min    M   37    U Maung San   \n",
       "..   ...                                ...  ...  ...            ...   \n",
       "769  769  San Tun Aung Shwe Hlaing @ Ngagar    M        Unknown Name   \n",
       "770  770                          Zayar Win    M   36   Unknown Name   \n",
       "771  771            Soe Moe Hlaing @ Maegyi    M   55   Unknown Name   \n",
       "772  772                            Min Min    M        Unknown Name   \n",
       "773                              Total  827                            \n",
       "\n",
       "                   5              6                          7   \\\n",
       "0    Date of Incident  Deceased Date               Organization   \n",
       "1           08-Feb-21      08-Feb-21                   Civilian   \n",
       "2           09-Feb-21      19-Feb-21                   Civilian   \n",
       "3           15-Feb-21      15-Feb-21                   Civilian   \n",
       "4           20-Feb-21      20-Feb-21                   Civilian   \n",
       "..                ...            ...                        ...   \n",
       "769         23-May-21      24-May-21                   Civilian   \n",
       "770         23-May-21      23-May-21                   Civilian   \n",
       "771     22 May 21 arr      24-May-21  Former Political Prisoner   \n",
       "772  24 May 21 arrest      25-May-21                   Civilian   \n",
       "773                                                               \n",
       "\n",
       "                              8   \\\n",
       "0             Place of Incidents   \n",
       "1                       Mandalay   \n",
       "2                     NayPyi Taw   \n",
       "3     Myeik, Tanintharyi Region,   \n",
       "4     Kannar road, Mandalay City   \n",
       "..                           ...   \n",
       "769  North Dagon football ground   \n",
       "770                                \n",
       "771         Interrogation centre   \n",
       "772         Interrogation centre   \n",
       "773                                \n",
       "\n",
       "                                                    9            10  \\\n",
       "0                                          Home Adress     Township   \n",
       "1                  75 street, between 37 and 38 street  Mahaaungmye   \n",
       "2    Hlaykhwintaung, Lower Paunglaung Hydro Power P...    Zeyathiri   \n",
       "3                                        Toe Chal Ward        Myeik   \n",
       "4                                       near 41 street  Mahaaungmye   \n",
       "..                                                 ...          ...   \n",
       "769                                                     North Dagon   \n",
       "770                        Phayarngarsu kangyi village      Myothit   \n",
       "771                                           Fayargyi         Bago   \n",
       "772                                       Myothar ward         Kela   \n",
       "773                                                                   \n",
       "\n",
       "                         11                                                 12  \n",
       "0    States/Regions Remarks                                                     \n",
       "1           Mandalay Region  In another incident, 32 year old Ko Na Pwar (a...  \n",
       "2                 Naypyidaw  On February 9, peaceful anti-coup protests in ...  \n",
       "3        Tanintharyi Region  On 15 February evening, 18-year old Maung Nay ...  \n",
       "4           Mandalay Region  In Mandalay, a shipyaroad raid turned violent ...  \n",
       "..                      ...                                                ...  \n",
       "769           Yangon Region  Junta forces opened fire when they raided the ...  \n",
       "770            Magwe Region  On the night of 23 May, in relation to bomb bl...  \n",
       "771             Bago Region  Mae Gyi (a.k.a Soe Moe Hlaing), a former membe...  \n",
       "772          Sagaing Region  A family was informed this morning to collect ...  \n",
       "773                                                                             \n",
       "\n",
       "[774 rows x 13 columns]"
      ],
      "text/html": "<div>\n<style scoped>\n    .dataframe tbody tr th:only-of-type {\n        vertical-align: middle;\n    }\n\n    .dataframe tbody tr th {\n        vertical-align: top;\n    }\n\n    .dataframe thead th {\n        text-align: right;\n    }\n</style>\n<table border=\"1\" class=\"dataframe\">\n  <thead>\n    <tr style=\"text-align: right;\">\n      <th></th>\n      <th>0</th>\n      <th>1</th>\n      <th>2</th>\n      <th>3</th>\n      <th>4</th>\n      <th>5</th>\n      <th>6</th>\n      <th>7</th>\n      <th>8</th>\n      <th>9</th>\n      <th>10</th>\n      <th>11</th>\n      <th>12</th>\n    </tr>\n  </thead>\n  <tbody>\n    <tr>\n      <th>0</th>\n      <td>No.</td>\n      <td>Name</td>\n      <td>Sex</td>\n      <td>Age</td>\n      <td>Father's name</td>\n      <td>Date of Incident</td>\n      <td>Deceased Date</td>\n      <td>Organization</td>\n      <td>Place of Incidents</td>\n      <td>Home Adress</td>\n      <td>Township</td>\n      <td>States/Regions Remarks</td>\n      <td></td>\n    </tr>\n    <tr>\n      <th>1</th>\n      <td>1</td>\n      <td>Na Pwar (aka) Ko Nyi Nyi Oo</td>\n      <td>M</td>\n      <td>32</td>\n      <td>U Hla Ngwe</td>\n      <td>08-Feb-21</td>\n      <td>08-Feb-21</td>\n      <td>Civilian</td>\n      <td>Mandalay</td>\n      <td>75 street, between 37 and 38 street</td>\n      <td>Mahaaungmye</td>\n      <td>Mandalay Region</td>\n      <td>In another incident, 32 year old Ko Na Pwar (a...</td>\n    </tr>\n    <tr>\n      <th>2</th>\n      <td>2</td>\n      <td>Mya Thwate Thwate Khaing</td>\n      <td>F</td>\n      <td>19</td>\n      <td>unknown</td>\n      <td>09-Feb-21</td>\n      <td>19-Feb-21</td>\n      <td>Civilian</td>\n      <td>NayPyi Taw</td>\n      <td>Hlaykhwintaung, Lower Paunglaung Hydro Power P...</td>\n      <td>Zeyathiri</td>\n      <td>Naypyidaw</td>\n      <td>On February 9, peaceful anti-coup protests in ...</td>\n    </tr>\n    <tr>\n      <th>3</th>\n      <td>3</td>\n      <td>Nay Nay Win Htet</td>\n      <td>M</td>\n      <td>18</td>\n      <td>unknown</td>\n      <td>15-Feb-21</td>\n      <td>15-Feb-21</td>\n      <td>Civilian</td>\n      <td>Myeik, Tanintharyi Region,</td>\n      <td>Toe Chal Ward</td>\n      <td>Myeik</td>\n      <td>Tanintharyi Region</td>\n      <td>On 15 February evening, 18-year old Maung Nay ...</td>\n    </tr>\n    <tr>\n      <th>4</th>\n      <td>4</td>\n      <td>Thet Naing Win @ Min Min</td>\n      <td>M</td>\n      <td>37</td>\n      <td>U Maung San</td>\n      <td>20-Feb-21</td>\n      <td>20-Feb-21</td>\n      <td>Civilian</td>\n      <td>Kannar road, Mandalay City</td>\n      <td>near 41 street</td>\n      <td>Mahaaungmye</td>\n      <td>Mandalay Region</td>\n      <td>In Mandalay, a shipyaroad raid turned violent ...</td>\n    </tr>\n    <tr>\n      <th>...</th>\n      <td>...</td>\n      <td>...</td>\n      <td>...</td>\n      <td>...</td>\n      <td>...</td>\n      <td>...</td>\n      <td>...</td>\n      <td>...</td>\n      <td>...</td>\n      <td>...</td>\n      <td>...</td>\n      <td>...</td>\n      <td>...</td>\n    </tr>\n    <tr>\n      <th>769</th>\n      <td>769</td>\n      <td>San Tun Aung Shwe Hlaing @ Ngagar</td>\n      <td>M</td>\n      <td></td>\n      <td>Unknown Name</td>\n      <td>23-May-21</td>\n      <td>24-May-21</td>\n      <td>Civilian</td>\n      <td>North Dagon football ground</td>\n      <td></td>\n      <td>North Dagon</td>\n      <td>Yangon Region</td>\n      <td>Junta forces opened fire when they raided the ...</td>\n    </tr>\n    <tr>\n      <th>770</th>\n      <td>770</td>\n      <td>Zayar Win</td>\n      <td>M</td>\n      <td>36</td>\n      <td>Unknown Name</td>\n      <td>23-May-21</td>\n      <td>23-May-21</td>\n      <td>Civilian</td>\n      <td></td>\n      <td>Phayarngarsu kangyi village</td>\n      <td>Myothit</td>\n      <td>Magwe Region</td>\n      <td>On the night of 23 May, in relation to bomb bl...</td>\n    </tr>\n    <tr>\n      <th>771</th>\n      <td>771</td>\n      <td>Soe Moe Hlaing @ Maegyi</td>\n      <td>M</td>\n      <td>55</td>\n      <td>Unknown Name</td>\n      <td>22 May 21 arr</td>\n      <td>24-May-21</td>\n      <td>Former Political Prisoner</td>\n      <td>Interrogation centre</td>\n      <td>Fayargyi</td>\n      <td>Bago</td>\n      <td>Bago Region</td>\n      <td>Mae Gyi (a.k.a Soe Moe Hlaing), a former membe...</td>\n    </tr>\n    <tr>\n      <th>772</th>\n      <td>772</td>\n      <td>Min Min</td>\n      <td>M</td>\n      <td></td>\n      <td>Unknown Name</td>\n      <td>24 May 21 arrest</td>\n      <td>25-May-21</td>\n      <td>Civilian</td>\n      <td>Interrogation centre</td>\n      <td>Myothar ward</td>\n      <td>Kela</td>\n      <td>Sagaing Region</td>\n      <td>A family was informed this morning to collect ...</td>\n    </tr>\n    <tr>\n      <th>773</th>\n      <td></td>\n      <td>Total  827</td>\n      <td></td>\n      <td></td>\n      <td></td>\n      <td></td>\n      <td></td>\n      <td></td>\n      <td></td>\n      <td></td>\n      <td></td>\n      <td></td>\n      <td></td>\n    </tr>\n  </tbody>\n</table>\n<p>774 rows × 13 columns</p>\n</div>"
     },
     "metadata": {},
     "execution_count": 74
    }
   ],
   "source": [
    "dataset = dataset.applymap(lambda str: str.replace('\\n', ''))\n",
    "dataset"
   ]
  },
  {
   "source": [
    "Fix column names"
   ],
   "cell_type": "markdown",
   "metadata": {}
  },
  {
   "cell_type": "code",
   "execution_count": 75,
   "metadata": {},
   "outputs": [
    {
     "output_type": "execute_result",
     "data": {
      "text/plain": [
       "array(['No.', 'Name', 'Sex', 'Age', \"Father's name\", 'Date of Incident',\n",
       "       'Deceased Date', 'Organization', 'Place of Incidents',\n",
       "       'Home Adress', 'Township', 'States/Regions Remarks', ''],\n",
       "      dtype=object)"
      ]
     },
     "metadata": {},
     "execution_count": 75
    }
   ],
   "source": [
    "header = dataset.head(1).to_numpy()[0]\n",
    "header"
   ]
  },
  {
   "cell_type": "code",
   "execution_count": 76,
   "metadata": {},
   "outputs": [
    {
     "output_type": "execute_result",
     "data": {
      "text/plain": [
       "array(['No.', 'Name', 'Sex', 'Age', \"Father's name\", 'Date of Incident',\n",
       "       'Deceased Date', 'Organization', 'Place of Incidents',\n",
       "       'Home Address', 'Township', 'States/Regions', 'Remarks'],\n",
       "      dtype=object)"
      ]
     },
     "metadata": {},
     "execution_count": 76
    }
   ],
   "source": [
    "header[-4] = 'Home Address'\n",
    "header[-2] = 'States/Regions'\n",
    "header[-1] = 'Remarks'\n",
    "header"
   ]
  },
  {
   "cell_type": "code",
   "execution_count": 77,
   "metadata": {},
   "outputs": [
    {
     "output_type": "execute_result",
     "data": {
      "text/plain": [
       "     No.                               Name Sex Age Father's name  \\\n",
       "1      1        Na Pwar (aka) Ko Nyi Nyi Oo   M  32    U Hla Ngwe   \n",
       "2      2           Mya Thwate Thwate Khaing   F  19       unknown   \n",
       "3      3                   Nay Nay Win Htet   M  18       unknown   \n",
       "4      4           Thet Naing Win @ Min Min   M  37   U Maung San   \n",
       "5      5                        Wai Yan Tun   M  16       unknown   \n",
       "..   ...                                ...  ..  ..           ...   \n",
       "769  769  San Tun Aung Shwe Hlaing @ Ngagar   M      Unknown Name   \n",
       "770  770                          Zayar Win   M  36  Unknown Name   \n",
       "771  771            Soe Moe Hlaing @ Maegyi   M  55  Unknown Name   \n",
       "772  772                            Min Min   M      Unknown Name   \n",
       "773                              Total  827                         \n",
       "\n",
       "     Date of Incident Deceased Date               Organization  \\\n",
       "1           08-Feb-21     08-Feb-21                   Civilian   \n",
       "2           09-Feb-21     19-Feb-21                   Civilian   \n",
       "3           15-Feb-21     15-Feb-21                   Civilian   \n",
       "4           20-Feb-21     20-Feb-21                   Civilian   \n",
       "5           20-Feb-21     20-Feb-21                   Civilian   \n",
       "..                ...           ...                        ...   \n",
       "769         23-May-21     24-May-21                   Civilian   \n",
       "770         23-May-21     23-May-21                   Civilian   \n",
       "771     22 May 21 arr     24-May-21  Former Political Prisoner   \n",
       "772  24 May 21 arrest     25-May-21                   Civilian   \n",
       "773                                                              \n",
       "\n",
       "              Place of Incidents  \\\n",
       "1                       Mandalay   \n",
       "2                     NayPyi Taw   \n",
       "3     Myeik, Tanintharyi Region,   \n",
       "4     Kannar road, Mandalay City   \n",
       "5     Kannar road, Mandalay City   \n",
       "..                           ...   \n",
       "769  North Dagon football ground   \n",
       "770                                \n",
       "771         Interrogation centre   \n",
       "772         Interrogation centre   \n",
       "773                                \n",
       "\n",
       "                                          Home Address     Township  \\\n",
       "1                  75 street, between 37 and 38 street  Mahaaungmye   \n",
       "2    Hlaykhwintaung, Lower Paunglaung Hydro Power P...    Zeyathiri   \n",
       "3                                        Toe Chal Ward        Myeik   \n",
       "4                                       near 41 street  Mahaaungmye   \n",
       "5                                       near 41 street  Mahaaungmye   \n",
       "..                                                 ...          ...   \n",
       "769                                                     North Dagon   \n",
       "770                        Phayarngarsu kangyi village      Myothit   \n",
       "771                                           Fayargyi         Bago   \n",
       "772                                       Myothar ward         Kela   \n",
       "773                                                                   \n",
       "\n",
       "         States/Regions                                            Remarks  \n",
       "1       Mandalay Region  In another incident, 32 year old Ko Na Pwar (a...  \n",
       "2             Naypyidaw  On February 9, peaceful anti-coup protests in ...  \n",
       "3    Tanintharyi Region  On 15 February evening, 18-year old Maung Nay ...  \n",
       "4       Mandalay Region  In Mandalay, a shipyaroad raid turned violent ...  \n",
       "5       Mandalay Region  In Mandalay, a shipyaroad raid turned violent ...  \n",
       "..                  ...                                                ...  \n",
       "769       Yangon Region  Junta forces opened fire when they raided the ...  \n",
       "770        Magwe Region  On the night of 23 May, in relation to bomb bl...  \n",
       "771         Bago Region  Mae Gyi (a.k.a Soe Moe Hlaing), a former membe...  \n",
       "772      Sagaing Region  A family was informed this morning to collect ...  \n",
       "773                                                                         \n",
       "\n",
       "[773 rows x 13 columns]"
      ],
      "text/html": "<div>\n<style scoped>\n    .dataframe tbody tr th:only-of-type {\n        vertical-align: middle;\n    }\n\n    .dataframe tbody tr th {\n        vertical-align: top;\n    }\n\n    .dataframe thead th {\n        text-align: right;\n    }\n</style>\n<table border=\"1\" class=\"dataframe\">\n  <thead>\n    <tr style=\"text-align: right;\">\n      <th></th>\n      <th>No.</th>\n      <th>Name</th>\n      <th>Sex</th>\n      <th>Age</th>\n      <th>Father's name</th>\n      <th>Date of Incident</th>\n      <th>Deceased Date</th>\n      <th>Organization</th>\n      <th>Place of Incidents</th>\n      <th>Home Address</th>\n      <th>Township</th>\n      <th>States/Regions</th>\n      <th>Remarks</th>\n    </tr>\n  </thead>\n  <tbody>\n    <tr>\n      <th>1</th>\n      <td>1</td>\n      <td>Na Pwar (aka) Ko Nyi Nyi Oo</td>\n      <td>M</td>\n      <td>32</td>\n      <td>U Hla Ngwe</td>\n      <td>08-Feb-21</td>\n      <td>08-Feb-21</td>\n      <td>Civilian</td>\n      <td>Mandalay</td>\n      <td>75 street, between 37 and 38 street</td>\n      <td>Mahaaungmye</td>\n      <td>Mandalay Region</td>\n      <td>In another incident, 32 year old Ko Na Pwar (a...</td>\n    </tr>\n    <tr>\n      <th>2</th>\n      <td>2</td>\n      <td>Mya Thwate Thwate Khaing</td>\n      <td>F</td>\n      <td>19</td>\n      <td>unknown</td>\n      <td>09-Feb-21</td>\n      <td>19-Feb-21</td>\n      <td>Civilian</td>\n      <td>NayPyi Taw</td>\n      <td>Hlaykhwintaung, Lower Paunglaung Hydro Power P...</td>\n      <td>Zeyathiri</td>\n      <td>Naypyidaw</td>\n      <td>On February 9, peaceful anti-coup protests in ...</td>\n    </tr>\n    <tr>\n      <th>3</th>\n      <td>3</td>\n      <td>Nay Nay Win Htet</td>\n      <td>M</td>\n      <td>18</td>\n      <td>unknown</td>\n      <td>15-Feb-21</td>\n      <td>15-Feb-21</td>\n      <td>Civilian</td>\n      <td>Myeik, Tanintharyi Region,</td>\n      <td>Toe Chal Ward</td>\n      <td>Myeik</td>\n      <td>Tanintharyi Region</td>\n      <td>On 15 February evening, 18-year old Maung Nay ...</td>\n    </tr>\n    <tr>\n      <th>4</th>\n      <td>4</td>\n      <td>Thet Naing Win @ Min Min</td>\n      <td>M</td>\n      <td>37</td>\n      <td>U Maung San</td>\n      <td>20-Feb-21</td>\n      <td>20-Feb-21</td>\n      <td>Civilian</td>\n      <td>Kannar road, Mandalay City</td>\n      <td>near 41 street</td>\n      <td>Mahaaungmye</td>\n      <td>Mandalay Region</td>\n      <td>In Mandalay, a shipyaroad raid turned violent ...</td>\n    </tr>\n    <tr>\n      <th>5</th>\n      <td>5</td>\n      <td>Wai Yan Tun</td>\n      <td>M</td>\n      <td>16</td>\n      <td>unknown</td>\n      <td>20-Feb-21</td>\n      <td>20-Feb-21</td>\n      <td>Civilian</td>\n      <td>Kannar road, Mandalay City</td>\n      <td>near 41 street</td>\n      <td>Mahaaungmye</td>\n      <td>Mandalay Region</td>\n      <td>In Mandalay, a shipyaroad raid turned violent ...</td>\n    </tr>\n    <tr>\n      <th>...</th>\n      <td>...</td>\n      <td>...</td>\n      <td>...</td>\n      <td>...</td>\n      <td>...</td>\n      <td>...</td>\n      <td>...</td>\n      <td>...</td>\n      <td>...</td>\n      <td>...</td>\n      <td>...</td>\n      <td>...</td>\n      <td>...</td>\n    </tr>\n    <tr>\n      <th>769</th>\n      <td>769</td>\n      <td>San Tun Aung Shwe Hlaing @ Ngagar</td>\n      <td>M</td>\n      <td></td>\n      <td>Unknown Name</td>\n      <td>23-May-21</td>\n      <td>24-May-21</td>\n      <td>Civilian</td>\n      <td>North Dagon football ground</td>\n      <td></td>\n      <td>North Dagon</td>\n      <td>Yangon Region</td>\n      <td>Junta forces opened fire when they raided the ...</td>\n    </tr>\n    <tr>\n      <th>770</th>\n      <td>770</td>\n      <td>Zayar Win</td>\n      <td>M</td>\n      <td>36</td>\n      <td>Unknown Name</td>\n      <td>23-May-21</td>\n      <td>23-May-21</td>\n      <td>Civilian</td>\n      <td></td>\n      <td>Phayarngarsu kangyi village</td>\n      <td>Myothit</td>\n      <td>Magwe Region</td>\n      <td>On the night of 23 May, in relation to bomb bl...</td>\n    </tr>\n    <tr>\n      <th>771</th>\n      <td>771</td>\n      <td>Soe Moe Hlaing @ Maegyi</td>\n      <td>M</td>\n      <td>55</td>\n      <td>Unknown Name</td>\n      <td>22 May 21 arr</td>\n      <td>24-May-21</td>\n      <td>Former Political Prisoner</td>\n      <td>Interrogation centre</td>\n      <td>Fayargyi</td>\n      <td>Bago</td>\n      <td>Bago Region</td>\n      <td>Mae Gyi (a.k.a Soe Moe Hlaing), a former membe...</td>\n    </tr>\n    <tr>\n      <th>772</th>\n      <td>772</td>\n      <td>Min Min</td>\n      <td>M</td>\n      <td></td>\n      <td>Unknown Name</td>\n      <td>24 May 21 arrest</td>\n      <td>25-May-21</td>\n      <td>Civilian</td>\n      <td>Interrogation centre</td>\n      <td>Myothar ward</td>\n      <td>Kela</td>\n      <td>Sagaing Region</td>\n      <td>A family was informed this morning to collect ...</td>\n    </tr>\n    <tr>\n      <th>773</th>\n      <td></td>\n      <td>Total  827</td>\n      <td></td>\n      <td></td>\n      <td></td>\n      <td></td>\n      <td></td>\n      <td></td>\n      <td></td>\n      <td></td>\n      <td></td>\n      <td></td>\n      <td></td>\n    </tr>\n  </tbody>\n</table>\n<p>773 rows × 13 columns</p>\n</div>"
     },
     "metadata": {},
     "execution_count": 77
    }
   ],
   "source": [
    "dataset.columns = header\n",
    "dataset = dataset.drop(index=0)\n",
    "dataset"
   ]
  },
  {
   "source": [
    "Drop unused columns"
   ],
   "cell_type": "markdown",
   "metadata": {}
  },
  {
   "cell_type": "code",
   "execution_count": 79,
   "metadata": {},
   "outputs": [
    {
     "output_type": "execute_result",
     "data": {
      "text/plain": [
       "    Sex Age  Date of Incident Deceased Date               Organization  \\\n",
       "1     M  32         08-Feb-21     08-Feb-21                   Civilian   \n",
       "2     F  19         09-Feb-21     19-Feb-21                   Civilian   \n",
       "3     M  18         15-Feb-21     15-Feb-21                   Civilian   \n",
       "4     M  37         20-Feb-21     20-Feb-21                   Civilian   \n",
       "5     M  16         20-Feb-21     20-Feb-21                   Civilian   \n",
       "..   ..  ..               ...           ...                        ...   \n",
       "769   M             23-May-21     24-May-21                   Civilian   \n",
       "770   M  36         23-May-21     23-May-21                   Civilian   \n",
       "771   M  55     22 May 21 arr     24-May-21  Former Political Prisoner   \n",
       "772   M      24 May 21 arrest     25-May-21                   Civilian   \n",
       "773                                                                      \n",
       "\n",
       "              Place of Incidents     Township      States/Regions  \\\n",
       "1                       Mandalay  Mahaaungmye     Mandalay Region   \n",
       "2                     NayPyi Taw    Zeyathiri           Naypyidaw   \n",
       "3     Myeik, Tanintharyi Region,        Myeik  Tanintharyi Region   \n",
       "4     Kannar road, Mandalay City  Mahaaungmye     Mandalay Region   \n",
       "5     Kannar road, Mandalay City  Mahaaungmye     Mandalay Region   \n",
       "..                           ...          ...                 ...   \n",
       "769  North Dagon football ground  North Dagon       Yangon Region   \n",
       "770                                   Myothit        Magwe Region   \n",
       "771         Interrogation centre         Bago         Bago Region   \n",
       "772         Interrogation centre         Kela      Sagaing Region   \n",
       "773                                                                 \n",
       "\n",
       "                                               Remarks  \n",
       "1    In another incident, 32 year old Ko Na Pwar (a...  \n",
       "2    On February 9, peaceful anti-coup protests in ...  \n",
       "3    On 15 February evening, 18-year old Maung Nay ...  \n",
       "4    In Mandalay, a shipyaroad raid turned violent ...  \n",
       "5    In Mandalay, a shipyaroad raid turned violent ...  \n",
       "..                                                 ...  \n",
       "769  Junta forces opened fire when they raided the ...  \n",
       "770  On the night of 23 May, in relation to bomb bl...  \n",
       "771  Mae Gyi (a.k.a Soe Moe Hlaing), a former membe...  \n",
       "772  A family was informed this morning to collect ...  \n",
       "773                                                     \n",
       "\n",
       "[773 rows x 9 columns]"
      ],
      "text/html": "<div>\n<style scoped>\n    .dataframe tbody tr th:only-of-type {\n        vertical-align: middle;\n    }\n\n    .dataframe tbody tr th {\n        vertical-align: top;\n    }\n\n    .dataframe thead th {\n        text-align: right;\n    }\n</style>\n<table border=\"1\" class=\"dataframe\">\n  <thead>\n    <tr style=\"text-align: right;\">\n      <th></th>\n      <th>Sex</th>\n      <th>Age</th>\n      <th>Date of Incident</th>\n      <th>Deceased Date</th>\n      <th>Organization</th>\n      <th>Place of Incidents</th>\n      <th>Township</th>\n      <th>States/Regions</th>\n      <th>Remarks</th>\n    </tr>\n  </thead>\n  <tbody>\n    <tr>\n      <th>1</th>\n      <td>M</td>\n      <td>32</td>\n      <td>08-Feb-21</td>\n      <td>08-Feb-21</td>\n      <td>Civilian</td>\n      <td>Mandalay</td>\n      <td>Mahaaungmye</td>\n      <td>Mandalay Region</td>\n      <td>In another incident, 32 year old Ko Na Pwar (a...</td>\n    </tr>\n    <tr>\n      <th>2</th>\n      <td>F</td>\n      <td>19</td>\n      <td>09-Feb-21</td>\n      <td>19-Feb-21</td>\n      <td>Civilian</td>\n      <td>NayPyi Taw</td>\n      <td>Zeyathiri</td>\n      <td>Naypyidaw</td>\n      <td>On February 9, peaceful anti-coup protests in ...</td>\n    </tr>\n    <tr>\n      <th>3</th>\n      <td>M</td>\n      <td>18</td>\n      <td>15-Feb-21</td>\n      <td>15-Feb-21</td>\n      <td>Civilian</td>\n      <td>Myeik, Tanintharyi Region,</td>\n      <td>Myeik</td>\n      <td>Tanintharyi Region</td>\n      <td>On 15 February evening, 18-year old Maung Nay ...</td>\n    </tr>\n    <tr>\n      <th>4</th>\n      <td>M</td>\n      <td>37</td>\n      <td>20-Feb-21</td>\n      <td>20-Feb-21</td>\n      <td>Civilian</td>\n      <td>Kannar road, Mandalay City</td>\n      <td>Mahaaungmye</td>\n      <td>Mandalay Region</td>\n      <td>In Mandalay, a shipyaroad raid turned violent ...</td>\n    </tr>\n    <tr>\n      <th>5</th>\n      <td>M</td>\n      <td>16</td>\n      <td>20-Feb-21</td>\n      <td>20-Feb-21</td>\n      <td>Civilian</td>\n      <td>Kannar road, Mandalay City</td>\n      <td>Mahaaungmye</td>\n      <td>Mandalay Region</td>\n      <td>In Mandalay, a shipyaroad raid turned violent ...</td>\n    </tr>\n    <tr>\n      <th>...</th>\n      <td>...</td>\n      <td>...</td>\n      <td>...</td>\n      <td>...</td>\n      <td>...</td>\n      <td>...</td>\n      <td>...</td>\n      <td>...</td>\n      <td>...</td>\n    </tr>\n    <tr>\n      <th>769</th>\n      <td>M</td>\n      <td></td>\n      <td>23-May-21</td>\n      <td>24-May-21</td>\n      <td>Civilian</td>\n      <td>North Dagon football ground</td>\n      <td>North Dagon</td>\n      <td>Yangon Region</td>\n      <td>Junta forces opened fire when they raided the ...</td>\n    </tr>\n    <tr>\n      <th>770</th>\n      <td>M</td>\n      <td>36</td>\n      <td>23-May-21</td>\n      <td>23-May-21</td>\n      <td>Civilian</td>\n      <td></td>\n      <td>Myothit</td>\n      <td>Magwe Region</td>\n      <td>On the night of 23 May, in relation to bomb bl...</td>\n    </tr>\n    <tr>\n      <th>771</th>\n      <td>M</td>\n      <td>55</td>\n      <td>22 May 21 arr</td>\n      <td>24-May-21</td>\n      <td>Former Political Prisoner</td>\n      <td>Interrogation centre</td>\n      <td>Bago</td>\n      <td>Bago Region</td>\n      <td>Mae Gyi (a.k.a Soe Moe Hlaing), a former membe...</td>\n    </tr>\n    <tr>\n      <th>772</th>\n      <td>M</td>\n      <td></td>\n      <td>24 May 21 arrest</td>\n      <td>25-May-21</td>\n      <td>Civilian</td>\n      <td>Interrogation centre</td>\n      <td>Kela</td>\n      <td>Sagaing Region</td>\n      <td>A family was informed this morning to collect ...</td>\n    </tr>\n    <tr>\n      <th>773</th>\n      <td></td>\n      <td></td>\n      <td></td>\n      <td></td>\n      <td></td>\n      <td></td>\n      <td></td>\n      <td></td>\n      <td></td>\n    </tr>\n  </tbody>\n</table>\n<p>773 rows × 9 columns</p>\n</div>"
     },
     "metadata": {},
     "execution_count": 79
    }
   ],
   "source": [
    "dataset = dataset.drop(columns=['No.','Name',\"Father's name\", 'Home Address'])\n",
    "dataset"
   ]
  },
  {
   "source": [
    "## Explore data"
   ],
   "cell_type": "markdown",
   "metadata": {}
  },
  {
   "cell_type": "code",
   "execution_count": 80,
   "metadata": {},
   "outputs": [
    {
     "output_type": "execute_result",
     "data": {
      "text/plain": [
       "        Sex  Age Date of Incident Deceased Date Organization  \\\n",
       "count   773  773              773           773          773   \n",
       "unique    3   63               90            83           64   \n",
       "top       M             27-Mar-21     27-Mar-21     Civilian   \n",
       "freq    693  168              162           160          619   \n",
       "\n",
       "       Place of Incidents        Township States/Regions Remarks  \n",
       "count                 773             773            773     773  \n",
       "unique                293             146             36     259  \n",
       "top                        Hlaing Tharyar  Yangon Region          \n",
       "freq                  158              74            227     302  "
      ],
      "text/html": "<div>\n<style scoped>\n    .dataframe tbody tr th:only-of-type {\n        vertical-align: middle;\n    }\n\n    .dataframe tbody tr th {\n        vertical-align: top;\n    }\n\n    .dataframe thead th {\n        text-align: right;\n    }\n</style>\n<table border=\"1\" class=\"dataframe\">\n  <thead>\n    <tr style=\"text-align: right;\">\n      <th></th>\n      <th>Sex</th>\n      <th>Age</th>\n      <th>Date of Incident</th>\n      <th>Deceased Date</th>\n      <th>Organization</th>\n      <th>Place of Incidents</th>\n      <th>Township</th>\n      <th>States/Regions</th>\n      <th>Remarks</th>\n    </tr>\n  </thead>\n  <tbody>\n    <tr>\n      <th>count</th>\n      <td>773</td>\n      <td>773</td>\n      <td>773</td>\n      <td>773</td>\n      <td>773</td>\n      <td>773</td>\n      <td>773</td>\n      <td>773</td>\n      <td>773</td>\n    </tr>\n    <tr>\n      <th>unique</th>\n      <td>3</td>\n      <td>63</td>\n      <td>90</td>\n      <td>83</td>\n      <td>64</td>\n      <td>293</td>\n      <td>146</td>\n      <td>36</td>\n      <td>259</td>\n    </tr>\n    <tr>\n      <th>top</th>\n      <td>M</td>\n      <td></td>\n      <td>27-Mar-21</td>\n      <td>27-Mar-21</td>\n      <td>Civilian</td>\n      <td></td>\n      <td>Hlaing Tharyar</td>\n      <td>Yangon Region</td>\n      <td></td>\n    </tr>\n    <tr>\n      <th>freq</th>\n      <td>693</td>\n      <td>168</td>\n      <td>162</td>\n      <td>160</td>\n      <td>619</td>\n      <td>158</td>\n      <td>74</td>\n      <td>227</td>\n      <td>302</td>\n    </tr>\n  </tbody>\n</table>\n</div>"
     },
     "metadata": {},
     "execution_count": 80
    }
   ],
   "source": [
    "dataset.describe()"
   ]
  },
  {
   "cell_type": "code",
   "execution_count": 85,
   "metadata": {},
   "outputs": [
    {
     "output_type": "execute_result",
     "data": {
      "text/plain": [
       "M    693\n",
       "F     46\n",
       "      34\n",
       "Name: Sex, dtype: int64"
      ]
     },
     "metadata": {},
     "execution_count": 85
    }
   ],
   "source": [
    "dataset.get('Sex').value_counts()"
   ]
  },
  {
   "cell_type": "code",
   "execution_count": 136,
   "metadata": {},
   "outputs": [
    {
     "output_type": "execute_result",
     "data": {
      "text/plain": [
       "<matplotlib.axes._subplots.AxesSubplot at 0x7f6fab71f670>"
      ]
     },
     "metadata": {},
     "execution_count": 136
    },
    {
     "output_type": "display_data",
     "data": {
      "text/plain": "<Figure size 432x288 with 1 Axes>",
      "image/svg+xml": "<?xml version=\"1.0\" encoding=\"utf-8\" standalone=\"no\"?>\n<!DOCTYPE svg PUBLIC \"-//W3C//DTD SVG 1.1//EN\"\n  \"http://www.w3.org/Graphics/SVG/1.1/DTD/svg11.dtd\">\n<!-- Created with matplotlib (http://matplotlib.org/) -->\n<svg height=\"238.84pt\" version=\"1.1\" viewBox=\"0 0 366.378125 238.84\" width=\"366.378125pt\" xmlns=\"http://www.w3.org/2000/svg\" xmlns:xlink=\"http://www.w3.org/1999/xlink\">\n <defs>\n  <style type=\"text/css\">\n*{stroke-linecap:butt;stroke-linejoin:round;}\n  </style>\n </defs>\n <g id=\"figure_1\">\n  <g id=\"patch_1\">\n   <path d=\"M 0 238.84 \nL 366.378125 238.84 \nL 366.378125 0 \nL 0 0 \nz\n\" style=\"fill:none;\"/>\n  </g>\n  <g id=\"axes_1\">\n   <g id=\"patch_2\">\n    <path d=\"M 322.198125 119.42 \nC 322.198125 109.186865 319.417418 99.033565 313.984169 89.428077 \nC 308.55092 79.822589 300.549906 70.914791 290.349903 63.115252 \nC 280.1499 55.315712 267.910061 48.746131 254.194533 43.709307 \nC 240.479006 38.672482 225.501798 35.247006 209.953224 33.590762 \nC 194.404651 31.934518 178.527322 32.073348 163.05304 34.000855 \nC 147.578757 35.928362 132.748973 39.614469 119.247206 44.889281 \nC 105.745439 50.164092 93.782363 56.945302 83.909368 64.920359 \nC 74.036372 72.895416 66.40751 81.939881 61.374402 91.636887 \nC 56.341295 101.333892 53.982476 111.532131 54.406666 121.761558 \nC 54.830855 131.990984 58.031435 142.091983 63.860887 151.598991 \nC 69.690339 161.105998 78.057703 169.870672 88.57732 177.48904 \nC 99.096938 185.107408 111.604666 191.460597 125.524011 196.255783 \nC 139.443357 201.050969 154.557131 204.213331 170.168724 205.597112 \nC 185.780318 206.980893 201.646137 206.564502 217.03491 204.367129 \nC 232.423683 202.169757 247.095294 198.225691 260.373513 192.716717 \nC 273.651731 187.207742 285.329373 180.219818 294.868203 172.075025 \nL 188.278125 119.42 \nL 322.198125 119.42 \nz\n\" style=\"fill:#1f77b4;\"/>\n   </g>\n   <g id=\"patch_3\">\n    <path d=\"M 294.868203 172.075025 \nC 299.924222 167.75791 304.347369 163.143076 308.079811 158.290865 \nC 311.812253 153.438653 314.83765 148.370304 317.116442 143.152091 \nL 188.278125 119.42 \nL 294.868203 172.075025 \nz\n\" style=\"fill:#ff7f0e;\"/>\n   </g>\n   <g id=\"patch_4\">\n    <path d=\"M 317.116442 143.152091 \nC 318.800212 139.296422 320.071636 135.369775 320.921622 131.400231 \nC 321.771609 127.430687 322.198126 123.427729 322.198125 119.419984 \nL 188.278125 119.42 \nL 317.116442 143.152091 \nz\n\" style=\"fill:#2ca02c;\"/>\n   </g>\n   <g id=\"matplotlib.axis_1\"/>\n   <g id=\"matplotlib.axis_2\">\n    <g id=\"text_1\">\n     <!-- Sex -->\n     <defs>\n      <path d=\"M 53.515625 70.515625 \nL 53.515625 60.890625 \nQ 47.90625 63.578125 42.921875 64.890625 \nQ 37.9375 66.21875 33.296875 66.21875 \nQ 25.25 66.21875 20.875 63.09375 \nQ 16.5 59.96875 16.5 54.203125 \nQ 16.5 49.359375 19.40625 46.890625 \nQ 22.3125 44.4375 30.421875 42.921875 \nL 36.375 41.703125 \nQ 47.40625 39.59375 52.65625 34.296875 \nQ 57.90625 29 57.90625 20.125 \nQ 57.90625 9.515625 50.796875 4.046875 \nQ 43.703125 -1.421875 29.984375 -1.421875 \nQ 24.8125 -1.421875 18.96875 -0.25 \nQ 13.140625 0.921875 6.890625 3.21875 \nL 6.890625 13.375 \nQ 12.890625 10.015625 18.65625 8.296875 \nQ 24.421875 6.59375 29.984375 6.59375 \nQ 38.421875 6.59375 43.015625 9.90625 \nQ 47.609375 13.234375 47.609375 19.390625 \nQ 47.609375 24.75 44.3125 27.78125 \nQ 41.015625 30.8125 33.5 32.328125 \nL 27.484375 33.5 \nQ 16.453125 35.6875 11.515625 40.375 \nQ 6.59375 45.0625 6.59375 53.421875 \nQ 6.59375 63.09375 13.40625 68.65625 \nQ 20.21875 74.21875 32.171875 74.21875 \nQ 37.3125 74.21875 42.625 73.28125 \nQ 47.953125 72.359375 53.515625 70.515625 \nz\n\" id=\"DejaVuSans-53\"/>\n      <path d=\"M 56.203125 29.59375 \nL 56.203125 25.203125 \nL 14.890625 25.203125 \nQ 15.484375 15.921875 20.484375 11.0625 \nQ 25.484375 6.203125 34.421875 6.203125 \nQ 39.59375 6.203125 44.453125 7.46875 \nQ 49.3125 8.734375 54.109375 11.28125 \nL 54.109375 2.78125 \nQ 49.265625 0.734375 44.1875 -0.34375 \nQ 39.109375 -1.421875 33.890625 -1.421875 \nQ 20.796875 -1.421875 13.15625 6.1875 \nQ 5.515625 13.8125 5.515625 26.8125 \nQ 5.515625 40.234375 12.765625 48.109375 \nQ 20.015625 56 32.328125 56 \nQ 43.359375 56 49.78125 48.890625 \nQ 56.203125 41.796875 56.203125 29.59375 \nz\nM 47.21875 32.234375 \nQ 47.125 39.59375 43.09375 43.984375 \nQ 39.0625 48.390625 32.421875 48.390625 \nQ 24.90625 48.390625 20.390625 44.140625 \nQ 15.875 39.890625 15.1875 32.171875 \nz\n\" id=\"DejaVuSans-65\"/>\n      <path d=\"M 54.890625 54.6875 \nL 35.109375 28.078125 \nL 55.90625 0 \nL 45.3125 0 \nL 29.390625 21.484375 \nL 13.484375 0 \nL 2.875 0 \nL 24.125 28.609375 \nL 4.6875 54.6875 \nL 15.28125 54.6875 \nL 29.78125 35.203125 \nL 44.28125 54.6875 \nz\n\" id=\"DejaVuSans-78\"/>\n     </defs>\n     <g transform=\"translate(14.798438 128.629375)rotate(-90)scale(0.1 -0.1)\">\n      <use xlink:href=\"#DejaVuSans-53\"/>\n      <use x=\"63.476562\" xlink:href=\"#DejaVuSans-65\"/>\n      <use x=\"124.984375\" xlink:href=\"#DejaVuSans-78\"/>\n     </g>\n    </g>\n   </g>\n   <g id=\"text_2\">\n    <!-- M -->\n    <defs>\n     <path d=\"M 9.8125 72.90625 \nL 24.515625 72.90625 \nL 43.109375 23.296875 \nL 61.8125 72.90625 \nL 76.515625 72.90625 \nL 76.515625 0 \nL 66.890625 0 \nL 66.890625 64.015625 \nL 48.09375 14.015625 \nL 38.1875 14.015625 \nL 19.390625 64.015625 \nL 19.390625 0 \nL 9.8125 0 \nz\n\" id=\"DejaVuSans-4d\"/>\n    </defs>\n    <g transform=\"translate(40.055905 91.61795)scale(0.1 -0.1)\">\n     <use xlink:href=\"#DejaVuSans-4d\"/>\n    </g>\n   </g>\n   <g id=\"text_3\">\n    <!-- F -->\n    <defs>\n     <path d=\"M 9.8125 72.90625 \nL 51.703125 72.90625 \nL 51.703125 64.59375 \nL 19.671875 64.59375 \nL 19.671875 43.109375 \nL 48.578125 43.109375 \nL 48.578125 34.8125 \nL 19.671875 34.8125 \nL 19.671875 0 \nL 9.8125 0 \nz\n\" id=\"DejaVuSans-46\"/>\n    </defs>\n    <g transform=\"translate(320.05998 164.937326)scale(0.1 -0.1)\">\n     <use xlink:href=\"#DejaVuSans-46\"/>\n    </g>\n   </g>\n  </g>\n </g>\n</svg>\n",
      "image/png": "[encoded data removed]"
     },
     "metadata": {}
    }
   ],
   "source": [
    "dataset.get('Sex').value_counts().plot(kind='pie')\n"
   ]
  },
  {
   "cell_type": "code",
   "execution_count": 108,
   "metadata": {},
   "outputs": [
    {
     "output_type": "execute_result",
     "data": {
      "text/plain": [
       "      168\n",
       "19     39\n",
       "20     35\n",
       "30     30\n",
       "25     27\n",
       "     ... \n",
       "78      1\n",
       "63      1\n",
       "70      1\n",
       "54      1\n",
       "10      1\n",
       "Name: Age, Length: 63, dtype: int64"
      ]
     },
     "metadata": {},
     "execution_count": 108
    }
   ],
   "source": [
    "dataset.get('Age').value_counts()"
   ]
  },
  {
   "cell_type": "code",
   "execution_count": 139,
   "metadata": {},
   "outputs": [
    {
     "output_type": "execute_result",
     "data": {
      "text/plain": [
       "(array([  2., 111., 210., 148.,  88.,  32.,  11.,   3.,   0.,   0.]),\n",
       " array([  0.,  10.,  20.,  30.,  40.,  50.,  60.,  70.,  80.,  90., 100.]),\n",
       " <a list of 10 Patch objects>)"
      ]
     },
     "metadata": {},
     "execution_count": 139
    },
    {
     "output_type": "display_data",
     "data": {
      "text/plain": "<Figure size 432x288 with 1 Axes>",
      "image/svg+xml": "<?xml version=\"1.0\" encoding=\"utf-8\" standalone=\"no\"?>\n<!DOCTYPE svg PUBLIC \"-//W3C//DTD SVG 1.1//EN\"\n  \"http://www.w3.org/Graphics/SVG/1.1/DTD/svg11.dtd\">\n<!-- Created with matplotlib (http://matplotlib.org/) -->\n<svg height=\"263.63625pt\" version=\"1.1\" viewBox=\"0 0 378.7875 263.63625\" width=\"378.7875pt\" xmlns=\"http://www.w3.org/2000/svg\" xmlns:xlink=\"http://www.w3.org/1999/xlink\">\n <defs>\n  <style type=\"text/css\">\n*{stroke-linecap:butt;stroke-linejoin:round;}\n  </style>\n </defs>\n <g id=\"figure_1\">\n  <g id=\"patch_1\">\n   <path d=\"M 0 263.63625 \nL 378.7875 263.63625 \nL 378.7875 0 \nL 0 0 \nz\n\" style=\"fill:none;\"/>\n  </g>\n  <g id=\"axes_1\">\n   <g id=\"patch_2\">\n    <path d=\"M 33.2875 239.758125 \nL 368.0875 239.758125 \nL 368.0875 22.318125 \nL 33.2875 22.318125 \nz\n\" style=\"fill:#ffffff;\"/>\n   </g>\n   <g id=\"patch_3\">\n    <path clip-path=\"url(#p45426a3f8a)\" d=\"M 48.505682 239.758125 \nL 78.942045 239.758125 \nL 78.942045 237.78588 \nL 48.505682 237.78588 \nz\n\" style=\"fill:#1f77b4;\"/>\n   </g>\n   <g id=\"patch_4\">\n    <path clip-path=\"url(#p45426a3f8a)\" d=\"M 78.942045 239.758125 \nL 109.378409 239.758125 \nL 109.378409 130.298533 \nL 78.942045 130.298533 \nz\n\" style=\"fill:#1f77b4;\"/>\n   </g>\n   <g id=\"patch_5\">\n    <path clip-path=\"url(#p45426a3f8a)\" d=\"M 109.378409 239.758125 \nL 139.814773 239.758125 \nL 139.814773 32.672411 \nL 109.378409 32.672411 \nz\n\" style=\"fill:#1f77b4;\"/>\n   </g>\n   <g id=\"patch_6\">\n    <path clip-path=\"url(#p45426a3f8a)\" d=\"M 139.814773 239.758125 \nL 170.251136 239.758125 \nL 170.251136 93.812003 \nL 139.814773 93.812003 \nz\n\" style=\"fill:#1f77b4;\"/>\n   </g>\n   <g id=\"patch_7\">\n    <path clip-path=\"url(#p45426a3f8a)\" d=\"M 170.251136 239.758125 \nL 200.6875 239.758125 \nL 200.6875 152.979349 \nL 170.251136 152.979349 \nz\n\" style=\"fill:#1f77b4;\"/>\n   </g>\n   <g id=\"patch_8\">\n    <path clip-path=\"url(#p45426a3f8a)\" d=\"M 200.6875 239.758125 \nL 231.123864 239.758125 \nL 231.123864 208.202207 \nL 200.6875 208.202207 \nz\n\" style=\"fill:#1f77b4;\"/>\n   </g>\n   <g id=\"patch_9\">\n    <path clip-path=\"url(#p45426a3f8a)\" d=\"M 231.123864 239.758125 \nL 261.560227 239.758125 \nL 261.560227 228.910778 \nL 231.123864 228.910778 \nz\n\" style=\"fill:#1f77b4;\"/>\n   </g>\n   <g id=\"patch_10\">\n    <path clip-path=\"url(#p45426a3f8a)\" d=\"M 261.560227 239.758125 \nL 291.996591 239.758125 \nL 291.996591 236.799758 \nL 261.560227 236.799758 \nz\n\" style=\"fill:#1f77b4;\"/>\n   </g>\n   <g id=\"patch_11\">\n    <path clip-path=\"url(#p45426a3f8a)\" d=\"M 291.996591 239.758125 \nL 322.432955 239.758125 \nL 322.432955 239.758125 \nL 291.996591 239.758125 \nz\n\" style=\"fill:#1f77b4;\"/>\n   </g>\n   <g id=\"patch_12\">\n    <path clip-path=\"url(#p45426a3f8a)\" d=\"M 322.432955 239.758125 \nL 352.869318 239.758125 \nL 352.869318 239.758125 \nL 322.432955 239.758125 \nz\n\" style=\"fill:#1f77b4;\"/>\n   </g>\n   <g id=\"matplotlib.axis_1\">\n    <g id=\"xtick_1\">\n     <g id=\"line2d_1\">\n      <defs>\n       <path d=\"M 0 0 \nL 0 3.5 \n\" id=\"m1108747b30\" style=\"stroke:#000000;stroke-width:0.8;\"/>\n      </defs>\n      <g>\n       <use style=\"stroke:#000000;stroke-width:0.8;\" x=\"48.505682\" xlink:href=\"#m1108747b30\" y=\"239.758125\"/>\n      </g>\n     </g>\n     <g id=\"text_1\">\n      <!-- 0 -->\n      <defs>\n       <path d=\"M 31.78125 66.40625 \nQ 24.171875 66.40625 20.328125 58.90625 \nQ 16.5 51.421875 16.5 36.375 \nQ 16.5 21.390625 20.328125 13.890625 \nQ 24.171875 6.390625 31.78125 6.390625 \nQ 39.453125 6.390625 43.28125 13.890625 \nQ 47.125 21.390625 47.125 36.375 \nQ 47.125 51.421875 43.28125 58.90625 \nQ 39.453125 66.40625 31.78125 66.40625 \nz\nM 31.78125 74.21875 \nQ 44.046875 74.21875 50.515625 64.515625 \nQ 56.984375 54.828125 56.984375 36.375 \nQ 56.984375 17.96875 50.515625 8.265625 \nQ 44.046875 -1.421875 31.78125 -1.421875 \nQ 19.53125 -1.421875 13.0625 8.265625 \nQ 6.59375 17.96875 6.59375 36.375 \nQ 6.59375 54.828125 13.0625 64.515625 \nQ 19.53125 74.21875 31.78125 74.21875 \nz\n\" id=\"DejaVuSans-30\"/>\n      </defs>\n      <g transform=\"translate(45.324432 254.356563)scale(0.1 -0.1)\">\n       <use xlink:href=\"#DejaVuSans-30\"/>\n      </g>\n     </g>\n    </g>\n    <g id=\"xtick_2\">\n     <g id=\"line2d_2\">\n      <g>\n       <use style=\"stroke:#000000;stroke-width:0.8;\" x=\"109.378409\" xlink:href=\"#m1108747b30\" y=\"239.758125\"/>\n      </g>\n     </g>\n     <g id=\"text_2\">\n      <!-- 20 -->\n      <defs>\n       <path d=\"M 19.1875 8.296875 \nL 53.609375 8.296875 \nL 53.609375 0 \nL 7.328125 0 \nL 7.328125 8.296875 \nQ 12.9375 14.109375 22.625 23.890625 \nQ 32.328125 33.6875 34.8125 36.53125 \nQ 39.546875 41.84375 41.421875 45.53125 \nQ 43.3125 49.21875 43.3125 52.78125 \nQ 43.3125 58.59375 39.234375 62.25 \nQ 35.15625 65.921875 28.609375 65.921875 \nQ 23.96875 65.921875 18.8125 64.3125 \nQ 13.671875 62.703125 7.8125 59.421875 \nL 7.8125 69.390625 \nQ 13.765625 71.78125 18.9375 73 \nQ 24.125 74.21875 28.421875 74.21875 \nQ 39.75 74.21875 46.484375 68.546875 \nQ 53.21875 62.890625 53.21875 53.421875 \nQ 53.21875 48.921875 51.53125 44.890625 \nQ 49.859375 40.875 45.40625 35.40625 \nQ 44.1875 33.984375 37.640625 27.21875 \nQ 31.109375 20.453125 19.1875 8.296875 \nz\n\" id=\"DejaVuSans-32\"/>\n      </defs>\n      <g transform=\"translate(103.015909 254.356563)scale(0.1 -0.1)\">\n       <use xlink:href=\"#DejaVuSans-32\"/>\n       <use x=\"63.623047\" xlink:href=\"#DejaVuSans-30\"/>\n      </g>\n     </g>\n    </g>\n    <g id=\"xtick_3\">\n     <g id=\"line2d_3\">\n      <g>\n       <use style=\"stroke:#000000;stroke-width:0.8;\" x=\"170.251136\" xlink:href=\"#m1108747b30\" y=\"239.758125\"/>\n      </g>\n     </g>\n     <g id=\"text_3\">\n      <!-- 40 -->\n      <defs>\n       <path d=\"M 37.796875 64.3125 \nL 12.890625 25.390625 \nL 37.796875 25.390625 \nz\nM 35.203125 72.90625 \nL 47.609375 72.90625 \nL 47.609375 25.390625 \nL 58.015625 25.390625 \nL 58.015625 17.1875 \nL 47.609375 17.1875 \nL 47.609375 0 \nL 37.796875 0 \nL 37.796875 17.1875 \nL 4.890625 17.1875 \nL 4.890625 26.703125 \nz\n\" id=\"DejaVuSans-34\"/>\n      </defs>\n      <g transform=\"translate(163.888636 254.356563)scale(0.1 -0.1)\">\n       <use xlink:href=\"#DejaVuSans-34\"/>\n       <use x=\"63.623047\" xlink:href=\"#DejaVuSans-30\"/>\n      </g>\n     </g>\n    </g>\n    <g id=\"xtick_4\">\n     <g id=\"line2d_4\">\n      <g>\n       <use style=\"stroke:#000000;stroke-width:0.8;\" x=\"231.123864\" xlink:href=\"#m1108747b30\" y=\"239.758125\"/>\n      </g>\n     </g>\n     <g id=\"text_4\">\n      <!-- 60 -->\n      <defs>\n       <path d=\"M 33.015625 40.375 \nQ 26.375 40.375 22.484375 35.828125 \nQ 18.609375 31.296875 18.609375 23.390625 \nQ 18.609375 15.53125 22.484375 10.953125 \nQ 26.375 6.390625 33.015625 6.390625 \nQ 39.65625 6.390625 43.53125 10.953125 \nQ 47.40625 15.53125 47.40625 23.390625 \nQ 47.40625 31.296875 43.53125 35.828125 \nQ 39.65625 40.375 33.015625 40.375 \nz\nM 52.59375 71.296875 \nL 52.59375 62.3125 \nQ 48.875 64.0625 45.09375 64.984375 \nQ 41.3125 65.921875 37.59375 65.921875 \nQ 27.828125 65.921875 22.671875 59.328125 \nQ 17.53125 52.734375 16.796875 39.40625 \nQ 19.671875 43.65625 24.015625 45.921875 \nQ 28.375 48.1875 33.59375 48.1875 \nQ 44.578125 48.1875 50.953125 41.515625 \nQ 57.328125 34.859375 57.328125 23.390625 \nQ 57.328125 12.15625 50.6875 5.359375 \nQ 44.046875 -1.421875 33.015625 -1.421875 \nQ 20.359375 -1.421875 13.671875 8.265625 \nQ 6.984375 17.96875 6.984375 36.375 \nQ 6.984375 53.65625 15.1875 63.9375 \nQ 23.390625 74.21875 37.203125 74.21875 \nQ 40.921875 74.21875 44.703125 73.484375 \nQ 48.484375 72.75 52.59375 71.296875 \nz\n\" id=\"DejaVuSans-36\"/>\n      </defs>\n      <g transform=\"translate(224.761364 254.356563)scale(0.1 -0.1)\">\n       <use xlink:href=\"#DejaVuSans-36\"/>\n       <use x=\"63.623047\" xlink:href=\"#DejaVuSans-30\"/>\n      </g>\n     </g>\n    </g>\n    <g id=\"xtick_5\">\n     <g id=\"line2d_5\">\n      <g>\n       <use style=\"stroke:#000000;stroke-width:0.8;\" x=\"291.996591\" xlink:href=\"#m1108747b30\" y=\"239.758125\"/>\n      </g>\n     </g>\n     <g id=\"text_5\">\n      <!-- 80 -->\n      <defs>\n       <path d=\"M 31.78125 34.625 \nQ 24.75 34.625 20.71875 30.859375 \nQ 16.703125 27.09375 16.703125 20.515625 \nQ 16.703125 13.921875 20.71875 10.15625 \nQ 24.75 6.390625 31.78125 6.390625 \nQ 38.8125 6.390625 42.859375 10.171875 \nQ 46.921875 13.96875 46.921875 20.515625 \nQ 46.921875 27.09375 42.890625 30.859375 \nQ 38.875 34.625 31.78125 34.625 \nz\nM 21.921875 38.8125 \nQ 15.578125 40.375 12.03125 44.71875 \nQ 8.5 49.078125 8.5 55.328125 \nQ 8.5 64.0625 14.71875 69.140625 \nQ 20.953125 74.21875 31.78125 74.21875 \nQ 42.671875 74.21875 48.875 69.140625 \nQ 55.078125 64.0625 55.078125 55.328125 \nQ 55.078125 49.078125 51.53125 44.71875 \nQ 48 40.375 41.703125 38.8125 \nQ 48.828125 37.15625 52.796875 32.3125 \nQ 56.78125 27.484375 56.78125 20.515625 \nQ 56.78125 9.90625 50.3125 4.234375 \nQ 43.84375 -1.421875 31.78125 -1.421875 \nQ 19.734375 -1.421875 13.25 4.234375 \nQ 6.78125 9.90625 6.78125 20.515625 \nQ 6.78125 27.484375 10.78125 32.3125 \nQ 14.796875 37.15625 21.921875 38.8125 \nz\nM 18.3125 54.390625 \nQ 18.3125 48.734375 21.84375 45.5625 \nQ 25.390625 42.390625 31.78125 42.390625 \nQ 38.140625 42.390625 41.71875 45.5625 \nQ 45.3125 48.734375 45.3125 54.390625 \nQ 45.3125 60.0625 41.71875 63.234375 \nQ 38.140625 66.40625 31.78125 66.40625 \nQ 25.390625 66.40625 21.84375 63.234375 \nQ 18.3125 60.0625 18.3125 54.390625 \nz\n\" id=\"DejaVuSans-38\"/>\n      </defs>\n      <g transform=\"translate(285.634091 254.356563)scale(0.1 -0.1)\">\n       <use xlink:href=\"#DejaVuSans-38\"/>\n       <use x=\"63.623047\" xlink:href=\"#DejaVuSans-30\"/>\n      </g>\n     </g>\n    </g>\n    <g id=\"xtick_6\">\n     <g id=\"line2d_6\">\n      <g>\n       <use style=\"stroke:#000000;stroke-width:0.8;\" x=\"352.869318\" xlink:href=\"#m1108747b30\" y=\"239.758125\"/>\n      </g>\n     </g>\n     <g id=\"text_6\">\n      <!-- 100 -->\n      <defs>\n       <path d=\"M 12.40625 8.296875 \nL 28.515625 8.296875 \nL 28.515625 63.921875 \nL 10.984375 60.40625 \nL 10.984375 69.390625 \nL 28.421875 72.90625 \nL 38.28125 72.90625 \nL 38.28125 8.296875 \nL 54.390625 8.296875 \nL 54.390625 0 \nL 12.40625 0 \nz\n\" id=\"DejaVuSans-31\"/>\n      </defs>\n      <g transform=\"translate(343.325568 254.356563)scale(0.1 -0.1)\">\n       <use xlink:href=\"#DejaVuSans-31\"/>\n       <use x=\"63.623047\" xlink:href=\"#DejaVuSans-30\"/>\n       <use x=\"127.246094\" xlink:href=\"#DejaVuSans-30\"/>\n      </g>\n     </g>\n    </g>\n   </g>\n   <g id=\"matplotlib.axis_2\">\n    <g id=\"ytick_1\">\n     <g id=\"line2d_7\">\n      <defs>\n       <path d=\"M 0 0 \nL -3.5 0 \n\" id=\"mdd1c9b2b7d\" style=\"stroke:#000000;stroke-width:0.8;\"/>\n      </defs>\n      <g>\n       <use style=\"stroke:#000000;stroke-width:0.8;\" x=\"33.2875\" xlink:href=\"#mdd1c9b2b7d\" y=\"239.758125\"/>\n      </g>\n     </g>\n     <g id=\"text_7\">\n      <!-- 0 -->\n      <g transform=\"translate(19.925 243.557344)scale(0.1 -0.1)\">\n       <use xlink:href=\"#DejaVuSans-30\"/>\n      </g>\n     </g>\n    </g>\n    <g id=\"ytick_2\">\n     <g id=\"line2d_8\">\n      <g>\n       <use style=\"stroke:#000000;stroke-width:0.8;\" x=\"33.2875\" xlink:href=\"#mdd1c9b2b7d\" y=\"215.105064\"/>\n      </g>\n     </g>\n     <g id=\"text_8\">\n      <!-- 25 -->\n      <defs>\n       <path d=\"M 10.796875 72.90625 \nL 49.515625 72.90625 \nL 49.515625 64.59375 \nL 19.828125 64.59375 \nL 19.828125 46.734375 \nQ 21.96875 47.46875 24.109375 47.828125 \nQ 26.265625 48.1875 28.421875 48.1875 \nQ 40.625 48.1875 47.75 41.5 \nQ 54.890625 34.8125 54.890625 23.390625 \nQ 54.890625 11.625 47.5625 5.09375 \nQ 40.234375 -1.421875 26.90625 -1.421875 \nQ 22.3125 -1.421875 17.546875 -0.640625 \nQ 12.796875 0.140625 7.71875 1.703125 \nL 7.71875 11.625 \nQ 12.109375 9.234375 16.796875 8.0625 \nQ 21.484375 6.890625 26.703125 6.890625 \nQ 35.15625 6.890625 40.078125 11.328125 \nQ 45.015625 15.765625 45.015625 23.390625 \nQ 45.015625 31 40.078125 35.4375 \nQ 35.15625 39.890625 26.703125 39.890625 \nQ 22.75 39.890625 18.8125 39.015625 \nQ 14.890625 38.140625 10.796875 36.28125 \nz\n\" id=\"DejaVuSans-35\"/>\n      </defs>\n      <g transform=\"translate(13.5625 218.904283)scale(0.1 -0.1)\">\n       <use xlink:href=\"#DejaVuSans-32\"/>\n       <use x=\"63.623047\" xlink:href=\"#DejaVuSans-35\"/>\n      </g>\n     </g>\n    </g>\n    <g id=\"ytick_3\">\n     <g id=\"line2d_9\">\n      <g>\n       <use style=\"stroke:#000000;stroke-width:0.8;\" x=\"33.2875\" xlink:href=\"#mdd1c9b2b7d\" y=\"190.452003\"/>\n      </g>\n     </g>\n     <g id=\"text_9\">\n      <!-- 50 -->\n      <g transform=\"translate(13.5625 194.251221)scale(0.1 -0.1)\">\n       <use xlink:href=\"#DejaVuSans-35\"/>\n       <use x=\"63.623047\" xlink:href=\"#DejaVuSans-30\"/>\n      </g>\n     </g>\n    </g>\n    <g id=\"ytick_4\">\n     <g id=\"line2d_10\">\n      <g>\n       <use style=\"stroke:#000000;stroke-width:0.8;\" x=\"33.2875\" xlink:href=\"#mdd1c9b2b7d\" y=\"165.798941\"/>\n      </g>\n     </g>\n     <g id=\"text_10\">\n      <!-- 75 -->\n      <defs>\n       <path d=\"M 8.203125 72.90625 \nL 55.078125 72.90625 \nL 55.078125 68.703125 \nL 28.609375 0 \nL 18.3125 0 \nL 43.21875 64.59375 \nL 8.203125 64.59375 \nz\n\" id=\"DejaVuSans-37\"/>\n      </defs>\n      <g transform=\"translate(13.5625 169.59816)scale(0.1 -0.1)\">\n       <use xlink:href=\"#DejaVuSans-37\"/>\n       <use x=\"63.623047\" xlink:href=\"#DejaVuSans-35\"/>\n      </g>\n     </g>\n    </g>\n    <g id=\"ytick_5\">\n     <g id=\"line2d_11\">\n      <g>\n       <use style=\"stroke:#000000;stroke-width:0.8;\" x=\"33.2875\" xlink:href=\"#mdd1c9b2b7d\" y=\"141.14588\"/>\n      </g>\n     </g>\n     <g id=\"text_11\">\n      <!-- 100 -->\n      <g transform=\"translate(7.2 144.945099)scale(0.1 -0.1)\">\n       <use xlink:href=\"#DejaVuSans-31\"/>\n       <use x=\"63.623047\" xlink:href=\"#DejaVuSans-30\"/>\n       <use x=\"127.246094\" xlink:href=\"#DejaVuSans-30\"/>\n      </g>\n     </g>\n    </g>\n    <g id=\"ytick_6\">\n     <g id=\"line2d_12\">\n      <g>\n       <use style=\"stroke:#000000;stroke-width:0.8;\" x=\"33.2875\" xlink:href=\"#mdd1c9b2b7d\" y=\"116.492819\"/>\n      </g>\n     </g>\n     <g id=\"text_12\">\n      <!-- 125 -->\n      <g transform=\"translate(7.2 120.292038)scale(0.1 -0.1)\">\n       <use xlink:href=\"#DejaVuSans-31\"/>\n       <use x=\"63.623047\" xlink:href=\"#DejaVuSans-32\"/>\n       <use x=\"127.246094\" xlink:href=\"#DejaVuSans-35\"/>\n      </g>\n     </g>\n    </g>\n    <g id=\"ytick_7\">\n     <g id=\"line2d_13\">\n      <g>\n       <use style=\"stroke:#000000;stroke-width:0.8;\" x=\"33.2875\" xlink:href=\"#mdd1c9b2b7d\" y=\"91.839758\"/>\n      </g>\n     </g>\n     <g id=\"text_13\">\n      <!-- 150 -->\n      <g transform=\"translate(7.2 95.638976)scale(0.1 -0.1)\">\n       <use xlink:href=\"#DejaVuSans-31\"/>\n       <use x=\"63.623047\" xlink:href=\"#DejaVuSans-35\"/>\n       <use x=\"127.246094\" xlink:href=\"#DejaVuSans-30\"/>\n      </g>\n     </g>\n    </g>\n    <g id=\"ytick_8\">\n     <g id=\"line2d_14\">\n      <g>\n       <use style=\"stroke:#000000;stroke-width:0.8;\" x=\"33.2875\" xlink:href=\"#mdd1c9b2b7d\" y=\"67.186696\"/>\n      </g>\n     </g>\n     <g id=\"text_14\">\n      <!-- 175 -->\n      <g transform=\"translate(7.2 70.985915)scale(0.1 -0.1)\">\n       <use xlink:href=\"#DejaVuSans-31\"/>\n       <use x=\"63.623047\" xlink:href=\"#DejaVuSans-37\"/>\n       <use x=\"127.246094\" xlink:href=\"#DejaVuSans-35\"/>\n      </g>\n     </g>\n    </g>\n    <g id=\"ytick_9\">\n     <g id=\"line2d_15\">\n      <g>\n       <use style=\"stroke:#000000;stroke-width:0.8;\" x=\"33.2875\" xlink:href=\"#mdd1c9b2b7d\" y=\"42.533635\"/>\n      </g>\n     </g>\n     <g id=\"text_15\">\n      <!-- 200 -->\n      <g transform=\"translate(7.2 46.332854)scale(0.1 -0.1)\">\n       <use xlink:href=\"#DejaVuSans-32\"/>\n       <use x=\"63.623047\" xlink:href=\"#DejaVuSans-30\"/>\n       <use x=\"127.246094\" xlink:href=\"#DejaVuSans-30\"/>\n      </g>\n     </g>\n    </g>\n   </g>\n   <g id=\"patch_13\">\n    <path d=\"M 33.2875 239.758125 \nL 33.2875 22.318125 \n\" style=\"fill:none;stroke:#000000;stroke-linecap:square;stroke-linejoin:miter;stroke-width:0.8;\"/>\n   </g>\n   <g id=\"patch_14\">\n    <path d=\"M 368.0875 239.758125 \nL 368.0875 22.318125 \n\" style=\"fill:none;stroke:#000000;stroke-linecap:square;stroke-linejoin:miter;stroke-width:0.8;\"/>\n   </g>\n   <g id=\"patch_15\">\n    <path d=\"M 33.2875 239.758125 \nL 368.0875 239.758125 \n\" style=\"fill:none;stroke:#000000;stroke-linecap:square;stroke-linejoin:miter;stroke-width:0.8;\"/>\n   </g>\n   <g id=\"patch_16\">\n    <path d=\"M 33.2875 22.318125 \nL 368.0875 22.318125 \n\" style=\"fill:none;stroke:#000000;stroke-linecap:square;stroke-linejoin:miter;stroke-width:0.8;\"/>\n   </g>\n   <g id=\"text_16\">\n    <!-- Known age distribution -->\n    <defs>\n     <path d=\"M 9.8125 72.90625 \nL 19.671875 72.90625 \nL 19.671875 42.09375 \nL 52.390625 72.90625 \nL 65.09375 72.90625 \nL 28.90625 38.921875 \nL 67.671875 0 \nL 54.6875 0 \nL 19.671875 35.109375 \nL 19.671875 0 \nL 9.8125 0 \nz\n\" id=\"DejaVuSans-4b\"/>\n     <path d=\"M 54.890625 33.015625 \nL 54.890625 0 \nL 45.90625 0 \nL 45.90625 32.71875 \nQ 45.90625 40.484375 42.875 44.328125 \nQ 39.84375 48.1875 33.796875 48.1875 \nQ 26.515625 48.1875 22.3125 43.546875 \nQ 18.109375 38.921875 18.109375 30.90625 \nL 18.109375 0 \nL 9.078125 0 \nL 9.078125 54.6875 \nL 18.109375 54.6875 \nL 18.109375 46.1875 \nQ 21.34375 51.125 25.703125 53.5625 \nQ 30.078125 56 35.796875 56 \nQ 45.21875 56 50.046875 50.171875 \nQ 54.890625 44.34375 54.890625 33.015625 \nz\n\" id=\"DejaVuSans-6e\"/>\n     <path d=\"M 30.609375 48.390625 \nQ 23.390625 48.390625 19.1875 42.75 \nQ 14.984375 37.109375 14.984375 27.296875 \nQ 14.984375 17.484375 19.15625 11.84375 \nQ 23.34375 6.203125 30.609375 6.203125 \nQ 37.796875 6.203125 41.984375 11.859375 \nQ 46.1875 17.53125 46.1875 27.296875 \nQ 46.1875 37.015625 41.984375 42.703125 \nQ 37.796875 48.390625 30.609375 48.390625 \nz\nM 30.609375 56 \nQ 42.328125 56 49.015625 48.375 \nQ 55.71875 40.765625 55.71875 27.296875 \nQ 55.71875 13.875 49.015625 6.21875 \nQ 42.328125 -1.421875 30.609375 -1.421875 \nQ 18.84375 -1.421875 12.171875 6.21875 \nQ 5.515625 13.875 5.515625 27.296875 \nQ 5.515625 40.765625 12.171875 48.375 \nQ 18.84375 56 30.609375 56 \nz\n\" id=\"DejaVuSans-6f\"/>\n     <path d=\"M 4.203125 54.6875 \nL 13.1875 54.6875 \nL 24.421875 12.015625 \nL 35.59375 54.6875 \nL 46.1875 54.6875 \nL 57.421875 12.015625 \nL 68.609375 54.6875 \nL 77.59375 54.6875 \nL 63.28125 0 \nL 52.6875 0 \nL 40.921875 44.828125 \nL 29.109375 0 \nL 18.5 0 \nz\n\" id=\"DejaVuSans-77\"/>\n     <path id=\"DejaVuSans-20\"/>\n     <path d=\"M 34.28125 27.484375 \nQ 23.390625 27.484375 19.1875 25 \nQ 14.984375 22.515625 14.984375 16.5 \nQ 14.984375 11.71875 18.140625 8.90625 \nQ 21.296875 6.109375 26.703125 6.109375 \nQ 34.1875 6.109375 38.703125 11.40625 \nQ 43.21875 16.703125 43.21875 25.484375 \nL 43.21875 27.484375 \nz\nM 52.203125 31.203125 \nL 52.203125 0 \nL 43.21875 0 \nL 43.21875 8.296875 \nQ 40.140625 3.328125 35.546875 0.953125 \nQ 30.953125 -1.421875 24.3125 -1.421875 \nQ 15.921875 -1.421875 10.953125 3.296875 \nQ 6 8.015625 6 15.921875 \nQ 6 25.140625 12.171875 29.828125 \nQ 18.359375 34.515625 30.609375 34.515625 \nL 43.21875 34.515625 \nL 43.21875 35.40625 \nQ 43.21875 41.609375 39.140625 45 \nQ 35.0625 48.390625 27.6875 48.390625 \nQ 23 48.390625 18.546875 47.265625 \nQ 14.109375 46.140625 10.015625 43.890625 \nL 10.015625 52.203125 \nQ 14.9375 54.109375 19.578125 55.046875 \nQ 24.21875 56 28.609375 56 \nQ 40.484375 56 46.34375 49.84375 \nQ 52.203125 43.703125 52.203125 31.203125 \nz\n\" id=\"DejaVuSans-61\"/>\n     <path d=\"M 45.40625 27.984375 \nQ 45.40625 37.75 41.375 43.109375 \nQ 37.359375 48.484375 30.078125 48.484375 \nQ 22.859375 48.484375 18.828125 43.109375 \nQ 14.796875 37.75 14.796875 27.984375 \nQ 14.796875 18.265625 18.828125 12.890625 \nQ 22.859375 7.515625 30.078125 7.515625 \nQ 37.359375 7.515625 41.375 12.890625 \nQ 45.40625 18.265625 45.40625 27.984375 \nz\nM 54.390625 6.78125 \nQ 54.390625 -7.171875 48.1875 -13.984375 \nQ 42 -20.796875 29.203125 -20.796875 \nQ 24.46875 -20.796875 20.265625 -20.09375 \nQ 16.0625 -19.390625 12.109375 -17.921875 \nL 12.109375 -9.1875 \nQ 16.0625 -11.328125 19.921875 -12.34375 \nQ 23.78125 -13.375 27.78125 -13.375 \nQ 36.625 -13.375 41.015625 -8.765625 \nQ 45.40625 -4.15625 45.40625 5.171875 \nL 45.40625 9.625 \nQ 42.625 4.78125 38.28125 2.390625 \nQ 33.9375 0 27.875 0 \nQ 17.828125 0 11.671875 7.65625 \nQ 5.515625 15.328125 5.515625 27.984375 \nQ 5.515625 40.671875 11.671875 48.328125 \nQ 17.828125 56 27.875 56 \nQ 33.9375 56 38.28125 53.609375 \nQ 42.625 51.21875 45.40625 46.390625 \nL 45.40625 54.6875 \nL 54.390625 54.6875 \nz\n\" id=\"DejaVuSans-67\"/>\n     <path d=\"M 56.203125 29.59375 \nL 56.203125 25.203125 \nL 14.890625 25.203125 \nQ 15.484375 15.921875 20.484375 11.0625 \nQ 25.484375 6.203125 34.421875 6.203125 \nQ 39.59375 6.203125 44.453125 7.46875 \nQ 49.3125 8.734375 54.109375 11.28125 \nL 54.109375 2.78125 \nQ 49.265625 0.734375 44.1875 -0.34375 \nQ 39.109375 -1.421875 33.890625 -1.421875 \nQ 20.796875 -1.421875 13.15625 6.1875 \nQ 5.515625 13.8125 5.515625 26.8125 \nQ 5.515625 40.234375 12.765625 48.109375 \nQ 20.015625 56 32.328125 56 \nQ 43.359375 56 49.78125 48.890625 \nQ 56.203125 41.796875 56.203125 29.59375 \nz\nM 47.21875 32.234375 \nQ 47.125 39.59375 43.09375 43.984375 \nQ 39.0625 48.390625 32.421875 48.390625 \nQ 24.90625 48.390625 20.390625 44.140625 \nQ 15.875 39.890625 15.1875 32.171875 \nz\n\" id=\"DejaVuSans-65\"/>\n     <path d=\"M 45.40625 46.390625 \nL 45.40625 75.984375 \nL 54.390625 75.984375 \nL 54.390625 0 \nL 45.40625 0 \nL 45.40625 8.203125 \nQ 42.578125 3.328125 38.25 0.953125 \nQ 33.9375 -1.421875 27.875 -1.421875 \nQ 17.96875 -1.421875 11.734375 6.484375 \nQ 5.515625 14.40625 5.515625 27.296875 \nQ 5.515625 40.1875 11.734375 48.09375 \nQ 17.96875 56 27.875 56 \nQ 33.9375 56 38.25 53.625 \nQ 42.578125 51.265625 45.40625 46.390625 \nz\nM 14.796875 27.296875 \nQ 14.796875 17.390625 18.875 11.75 \nQ 22.953125 6.109375 30.078125 6.109375 \nQ 37.203125 6.109375 41.296875 11.75 \nQ 45.40625 17.390625 45.40625 27.296875 \nQ 45.40625 37.203125 41.296875 42.84375 \nQ 37.203125 48.484375 30.078125 48.484375 \nQ 22.953125 48.484375 18.875 42.84375 \nQ 14.796875 37.203125 14.796875 27.296875 \nz\n\" id=\"DejaVuSans-64\"/>\n     <path d=\"M 9.421875 54.6875 \nL 18.40625 54.6875 \nL 18.40625 0 \nL 9.421875 0 \nz\nM 9.421875 75.984375 \nL 18.40625 75.984375 \nL 18.40625 64.59375 \nL 9.421875 64.59375 \nz\n\" id=\"DejaVuSans-69\"/>\n     <path d=\"M 44.28125 53.078125 \nL 44.28125 44.578125 \nQ 40.484375 46.53125 36.375 47.5 \nQ 32.28125 48.484375 27.875 48.484375 \nQ 21.1875 48.484375 17.84375 46.4375 \nQ 14.5 44.390625 14.5 40.28125 \nQ 14.5 37.15625 16.890625 35.375 \nQ 19.28125 33.59375 26.515625 31.984375 \nL 29.59375 31.296875 \nQ 39.15625 29.25 43.1875 25.515625 \nQ 47.21875 21.78125 47.21875 15.09375 \nQ 47.21875 7.46875 41.1875 3.015625 \nQ 35.15625 -1.421875 24.609375 -1.421875 \nQ 20.21875 -1.421875 15.453125 -0.5625 \nQ 10.6875 0.296875 5.421875 2 \nL 5.421875 11.28125 \nQ 10.40625 8.6875 15.234375 7.390625 \nQ 20.0625 6.109375 24.8125 6.109375 \nQ 31.15625 6.109375 34.5625 8.28125 \nQ 37.984375 10.453125 37.984375 14.40625 \nQ 37.984375 18.0625 35.515625 20.015625 \nQ 33.0625 21.96875 24.703125 23.78125 \nL 21.578125 24.515625 \nQ 13.234375 26.265625 9.515625 29.90625 \nQ 5.8125 33.546875 5.8125 39.890625 \nQ 5.8125 47.609375 11.28125 51.796875 \nQ 16.75 56 26.8125 56 \nQ 31.78125 56 36.171875 55.265625 \nQ 40.578125 54.546875 44.28125 53.078125 \nz\n\" id=\"DejaVuSans-73\"/>\n     <path d=\"M 18.3125 70.21875 \nL 18.3125 54.6875 \nL 36.8125 54.6875 \nL 36.8125 47.703125 \nL 18.3125 47.703125 \nL 18.3125 18.015625 \nQ 18.3125 11.328125 20.140625 9.421875 \nQ 21.96875 7.515625 27.59375 7.515625 \nL 36.8125 7.515625 \nL 36.8125 0 \nL 27.59375 0 \nQ 17.1875 0 13.234375 3.875 \nQ 9.28125 7.765625 9.28125 18.015625 \nL 9.28125 47.703125 \nL 2.6875 47.703125 \nL 2.6875 54.6875 \nL 9.28125 54.6875 \nL 9.28125 70.21875 \nz\n\" id=\"DejaVuSans-74\"/>\n     <path d=\"M 41.109375 46.296875 \nQ 39.59375 47.171875 37.8125 47.578125 \nQ 36.03125 48 33.890625 48 \nQ 26.265625 48 22.1875 43.046875 \nQ 18.109375 38.09375 18.109375 28.8125 \nL 18.109375 0 \nL 9.078125 0 \nL 9.078125 54.6875 \nL 18.109375 54.6875 \nL 18.109375 46.1875 \nQ 20.953125 51.171875 25.484375 53.578125 \nQ 30.03125 56 36.53125 56 \nQ 37.453125 56 38.578125 55.875 \nQ 39.703125 55.765625 41.0625 55.515625 \nz\n\" id=\"DejaVuSans-72\"/>\n     <path d=\"M 48.6875 27.296875 \nQ 48.6875 37.203125 44.609375 42.84375 \nQ 40.53125 48.484375 33.40625 48.484375 \nQ 26.265625 48.484375 22.1875 42.84375 \nQ 18.109375 37.203125 18.109375 27.296875 \nQ 18.109375 17.390625 22.1875 11.75 \nQ 26.265625 6.109375 33.40625 6.109375 \nQ 40.53125 6.109375 44.609375 11.75 \nQ 48.6875 17.390625 48.6875 27.296875 \nz\nM 18.109375 46.390625 \nQ 20.953125 51.265625 25.265625 53.625 \nQ 29.59375 56 35.59375 56 \nQ 45.5625 56 51.78125 48.09375 \nQ 58.015625 40.1875 58.015625 27.296875 \nQ 58.015625 14.40625 51.78125 6.484375 \nQ 45.5625 -1.421875 35.59375 -1.421875 \nQ 29.59375 -1.421875 25.265625 0.953125 \nQ 20.953125 3.328125 18.109375 8.203125 \nL 18.109375 0 \nL 9.078125 0 \nL 9.078125 75.984375 \nL 18.109375 75.984375 \nz\n\" id=\"DejaVuSans-62\"/>\n     <path d=\"M 8.5 21.578125 \nL 8.5 54.6875 \nL 17.484375 54.6875 \nL 17.484375 21.921875 \nQ 17.484375 14.15625 20.5 10.265625 \nQ 23.53125 6.390625 29.59375 6.390625 \nQ 36.859375 6.390625 41.078125 11.03125 \nQ 45.3125 15.671875 45.3125 23.6875 \nL 45.3125 54.6875 \nL 54.296875 54.6875 \nL 54.296875 0 \nL 45.3125 0 \nL 45.3125 8.40625 \nQ 42.046875 3.421875 37.71875 1 \nQ 33.40625 -1.421875 27.6875 -1.421875 \nQ 18.265625 -1.421875 13.375 4.4375 \nQ 8.5 10.296875 8.5 21.578125 \nz\nM 31.109375 56 \nz\n\" id=\"DejaVuSans-75\"/>\n    </defs>\n    <g transform=\"translate(131.386562 16.318125)scale(0.12 -0.12)\">\n     <use xlink:href=\"#DejaVuSans-4b\"/>\n     <use x=\"65.576172\" xlink:href=\"#DejaVuSans-6e\"/>\n     <use x=\"128.955078\" xlink:href=\"#DejaVuSans-6f\"/>\n     <use x=\"190.136719\" xlink:href=\"#DejaVuSans-77\"/>\n     <use x=\"271.923828\" xlink:href=\"#DejaVuSans-6e\"/>\n     <use x=\"335.302734\" xlink:href=\"#DejaVuSans-20\"/>\n     <use x=\"367.089844\" xlink:href=\"#DejaVuSans-61\"/>\n     <use x=\"428.369141\" xlink:href=\"#DejaVuSans-67\"/>\n     <use x=\"491.845703\" xlink:href=\"#DejaVuSans-65\"/>\n     <use x=\"553.369141\" xlink:href=\"#DejaVuSans-20\"/>\n     <use x=\"585.15625\" xlink:href=\"#DejaVuSans-64\"/>\n     <use x=\"648.632812\" xlink:href=\"#DejaVuSans-69\"/>\n     <use x=\"676.416016\" xlink:href=\"#DejaVuSans-73\"/>\n     <use x=\"728.515625\" xlink:href=\"#DejaVuSans-74\"/>\n     <use x=\"767.724609\" xlink:href=\"#DejaVuSans-72\"/>\n     <use x=\"808.837891\" xlink:href=\"#DejaVuSans-69\"/>\n     <use x=\"836.621094\" xlink:href=\"#DejaVuSans-62\"/>\n     <use x=\"900.097656\" xlink:href=\"#DejaVuSans-75\"/>\n     <use x=\"963.476562\" xlink:href=\"#DejaVuSans-74\"/>\n     <use x=\"1002.685547\" xlink:href=\"#DejaVuSans-69\"/>\n     <use x=\"1030.46875\" xlink:href=\"#DejaVuSans-6f\"/>\n     <use x=\"1091.650391\" xlink:href=\"#DejaVuSans-6e\"/>\n    </g>\n   </g>\n  </g>\n </g>\n <defs>\n  <clipPath id=\"p45426a3f8a\">\n   <rect height=\"217.44\" width=\"334.8\" x=\"33.2875\" y=\"22.318125\"/>\n  </clipPath>\n </defs>\n</svg>\n",
      "image/png": "[encoded data removed]"
     },
     "metadata": {
      "needs_background": "light"
     }
    }
   ],
   "source": [
    "ages = dataset.get('Age').to_numpy()\n",
    "\n",
    "fig, ax = plt.subplots()\n",
    "ax.set_title('Known age distribution')\n",
    "ax.hist(ages[ages != ''].astype(np.int), range=[0, 100])"
   ]
  },
  {
   "cell_type": "code",
   "execution_count": null,
   "metadata": {},
   "outputs": [],
   "source": []
  }
 ]
}